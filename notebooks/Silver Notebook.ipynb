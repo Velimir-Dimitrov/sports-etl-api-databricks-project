{
 "cells": [
  {
   "cell_type": "code",
   "execution_count": 0,
   "metadata": {
    "application/vnd.databricks.v1+cell": {
     "cellMetadata": {
      "byteLimit": 2048000,
      "rowLimit": 10000
     },
     "inputWidgets": {},
     "nuid": "ea3f76e7-e32f-4f69-a877-39061c69e126",
     "showTitle": false,
     "tableResultSettingsMap": {},
     "title": ""
    }
   },
   "outputs": [],
   "source": [
    "# ---------- Imports ----------\n",
    "\n",
    "from pyspark.sql.functions import col, isnull, when, to_date"
   ]
  },
  {
   "cell_type": "code",
   "execution_count": 0,
   "metadata": {
    "application/vnd.databricks.v1+cell": {
     "cellMetadata": {
      "byteLimit": 2048000,
      "rowLimit": 10000
     },
     "inputWidgets": {},
     "nuid": "349f2404-1102-465f-a015-66753ab4ccb7",
     "showTitle": false,
     "tableResultSettingsMap": {},
     "title": ""
    }
   },
   "outputs": [],
   "source": [
    "# ---------- Set variables ----------\n",
    "\n",
    "bronze_adls = 'abfss://bronze@datapr0ject.dfs.core.windows.net/'\n",
    "silver_adls = 'abfss://silver@datapr0ject.dfs.core.windows.net/'\n",
    "SPORT_ID_MAP = {\"Fighting\": \"4443\"}"
   ]
  },
  {
   "cell_type": "code",
   "execution_count": 0,
   "metadata": {
    "application/vnd.databricks.v1+cell": {
     "cellMetadata": {
      "byteLimit": 2048000,
      "rowLimit": 10000
     },
     "inputWidgets": {},
     "nuid": "4b5eac78-ae1c-46de-8c40-652f8ee770da",
     "showTitle": false,
     "tableResultSettingsMap": {},
     "title": ""
    }
   },
   "outputs": [],
   "source": [
    "# ---------- Load the data from bronze container ----------\n",
    "\n",
    "df = spark.read.option(\"multiline\", \"true\").json(f\"{bronze_adls}2025-07-26_4443_season_data.json\")"
   ]
  },
  {
   "cell_type": "code",
   "execution_count": 0,
   "metadata": {
    "application/vnd.databricks.v1+cell": {
     "cellMetadata": {
      "byteLimit": 2048000,
      "rowLimit": 10000
     },
     "inputWidgets": {},
     "nuid": "92838c18-e4b5-49fc-821d-7c5922c3ea59",
     "showTitle": false,
     "tableResultSettingsMap": {},
     "title": ""
    }
   },
   "outputs": [],
   "source": [
    "# ---------- Clean and filter the data ----------\n",
    "\n",
    "correct_league_id = SPORT_ID_MAP[\"Fighting\"]\n",
    "\n",
    "cleaned_df = (df\n",
    "    .filter((col(\"strSport\") == \"Fighting\") & (col(\"idLeague\") == correct_league_id))  \n",
    "    .dropDuplicates([\"idEvent\"]) \n",
    "    .withColumn(\"dateEvent\", to_date(col(\"dateEvent\"), \"yyyy-MM-dd\")) \n",
    "    .withColumn(\"strResult\", when(col(\"strResult\").isNull(), \"Unknown\").otherwise(col(\"strResult\"))) \n",
    "    .select(\"idEvent\", \"strEvent\", \"strPostponed\", \"dateEvent\", \"strVenue\", \"strCity\", \"strCountry\", \"idLeague\", \"strSport\", \"strDescriptionEN\").withColumn(\"postponed_flag\", when(col(\"strPostponed\") == \"yes\", True).otherwise(False))\n",
    ")"
   ]
  },
  {
   "cell_type": "code",
   "execution_count": 0,
   "metadata": {
    "application/vnd.databricks.v1+cell": {
     "cellMetadata": {
      "byteLimit": 2048000,
      "rowLimit": 10000
     },
     "inputWidgets": {},
     "nuid": "8572a89c-b532-451e-8c2c-7ad0c0d38fc7",
     "showTitle": false,
     "tableResultSettingsMap": {},
     "title": ""
    }
   },
   "outputs": [],
   "source": [
    "# ---------- Saving the cleaned data ----------\n",
    "\n",
    "cleaned_df.write.mode(\"append\").parquet(silver_adls)"
   ]
  }
 ],
 "metadata": {
  "application/vnd.databricks.v1+notebook": {
   "computePreferences": null,
   "dashboards": [],
   "environmentMetadata": {
    "base_environment": "",
    "environment_version": "2"
   },
   "inputWidgetPreferences": null,
   "language": "python",
   "notebookMetadata": {
    "pythonIndentUnit": 4
   },
   "notebookName": "Silver Notebook",
   "widgets": {}
  },
  "language_info": {
   "name": "python"
  }
 },
 "nbformat": 4,
 "nbformat_minor": 0
}
