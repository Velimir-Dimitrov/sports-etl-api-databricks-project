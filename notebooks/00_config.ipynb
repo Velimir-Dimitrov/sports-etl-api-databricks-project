{
 "cells": [
  {
   "cell_type": "code",
   "execution_count": 0,
   "metadata": {
    "application/vnd.databricks.v1+cell": {
     "cellMetadata": {},
     "inputWidgets": {},
     "nuid": "84c11829-f45e-48a6-b0d4-64e8dff5c18b",
     "showTitle": false,
     "tableResultSettingsMap": {},
     "title": ""
    }
   },
   "outputs": [],
   "source": [
    "# ---------- Imports ----------\n",
    "import requests\n",
    "import json"
   ]
  },
  {
   "cell_type": "code",
   "execution_count": 0,
   "metadata": {
    "application/vnd.databricks.v1+cell": {
     "cellMetadata": {},
     "inputWidgets": {},
     "nuid": "d5e8c5f9-959f-486f-9819-7e2466edf2c2",
     "showTitle": false,
     "tableResultSettingsMap": {},
     "title": ""
    }
   },
   "outputs": [],
   "source": [
    "# ---------- Constants ----------\n",
    "\n",
    "ACCOUNT_NAME = 'datapr0ject'\n",
    "TIERS = ['bronze', 'silver', 'gold']"
   ]
  },
  {
   "cell_type": "code",
   "execution_count": 0,
   "metadata": {
    "application/vnd.databricks.v1+cell": {
     "cellMetadata": {},
     "inputWidgets": {},
     "nuid": "d6e05590-0aaa-4ba9-9d1b-61c569fb99f5",
     "showTitle": false,
     "tableResultSettingsMap": {},
     "title": ""
    }
   },
   "outputs": [],
   "source": [
    "# ---------- ADLS Paths ----------\n",
    "\n",
    "def get_adls_paths(account_name, tiers):\n",
    "    return {tier: f'abfss://{tier}@{account_name}.dfs.core.windows.net/' for tier in tiers}\n",
    "\n",
    "adls_paths = get_adls_paths(ACCOUNT_NAME, TIERS)\n",
    "\n",
    "bronze_adls = adls_paths['bronze']\n",
    "silver_adls = adls_paths['silver']\n",
    "gold_adls   = adls_paths['gold']"
   ]
  },
  {
   "cell_type": "code",
   "execution_count": 0,
   "metadata": {
    "application/vnd.databricks.v1+cell": {
     "cellMetadata": {},
     "inputWidgets": {},
     "nuid": "49fe34a6-7206-480b-a07b-4a8f5aee721b",
     "showTitle": false,
     "tableResultSettingsMap": {},
     "title": ""
    }
   },
   "outputs": [],
   "source": [
    "# ---------- API Setup ----------\n",
    "\n",
    "API_KEY = dbutils.secrets.get(scope=\"sports-api-secrets\", key=\"thesportsdb_key\")\n",
    "if not API_KEY:\n",
    "    raise ValueError(\"API Key not found. Check secret scope or environment setup.\")\n"
   ]
  },
  {
   "cell_type": "code",
   "execution_count": 0,
   "metadata": {
    "application/vnd.databricks.v1+cell": {
     "cellMetadata": {},
     "inputWidgets": {},
     "nuid": "bf7d5acd-317f-4c6f-bc1d-790acb934863",
     "showTitle": false,
     "tableResultSettingsMap": {},
     "title": ""
    }
   },
   "outputs": [],
   "source": [
    "# ---------- Domain Config ----------\n",
    "\n",
    "sport_name = \"Fighting\"\n",
    "season_year = 2025"
   ]
  },
  {
   "cell_type": "code",
   "execution_count": 0,
   "metadata": {
    "application/vnd.databricks.v1+cell": {
     "cellMetadata": {},
     "inputWidgets": {},
     "nuid": "7a520b60-3677-4afa-8eb1-bace449c29bb",
     "showTitle": false,
     "tableResultSettingsMap": {},
     "title": ""
    }
   },
   "outputs": [],
   "source": [
    "# ---------- Known Sports ID Mapping ----------\n",
    "\n",
    "sports_ids = {\n",
    "    \"fighting\": \"4443\",  # UFC\n",
    "    \"soccer\": \"4328\",\n",
    "    \"basketball\": \"4387\",\n",
    "    \"baseball\": \"4424\",\n",
    "    \"american_football\": \"4391\",\n",
    "    \"rugby\": \"4464\",\n",
    "    \"motorsport\": \"4370\",\n",
    "    \"cycling\": \"4406\",\n",
    "    \"darts\": \"4415\"\n",
    "}"
   ]
  },
  {
   "cell_type": "code",
   "execution_count": 0,
   "metadata": {
    "application/vnd.databricks.v1+cell": {
     "cellMetadata": {},
     "inputWidgets": {},
     "nuid": "e78110a9-1945-4102-a4d8-a31a6adb075d",
     "showTitle": false,
     "tableResultSettingsMap": {},
     "title": ""
    }
   },
   "outputs": [],
   "source": [
    "# ---------- Date Config ----------\n",
    "\n",
    "dbutils.widgets.text(\"ingestion_date\", \"\")  \n",
    "\n",
    "\n",
    "try:\n",
    "    INGESTION_DATE = date.fromisoformat(dbutils.widgets.get(\"ingestion_date\"))\n",
    "except:\n",
    "    from datetime import date, timedelta\n",
    "    INGESTION_DATE = date.today() - timedelta(days=1)"
   ]
  }
 ],
 "metadata": {
  "application/vnd.databricks.v1+notebook": {
   "computePreferences": null,
   "dashboards": [],
   "environmentMetadata": {
    "base_environment": "",
    "environment_version": "2"
   },
   "inputWidgetPreferences": null,
   "language": "python",
   "notebookMetadata": {
    "pythonIndentUnit": 4
   },
   "notebookName": "00_config",
   "widgets": {}
  },
  "language_info": {
   "name": "python"
  }
 },
 "nbformat": 4,
 "nbformat_minor": 0
}
