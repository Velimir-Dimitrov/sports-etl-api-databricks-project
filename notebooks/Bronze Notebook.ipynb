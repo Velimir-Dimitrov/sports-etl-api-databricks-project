{
 "cells": [
  {
   "cell_type": "code",
   "execution_count": 0,
   "metadata": {
    "application/vnd.databricks.v1+cell": {
     "cellMetadata": {
      "byteLimit": 2048000,
      "rowLimit": 10000
     },
     "inputWidgets": {},
     "nuid": "aa5cdfbc-6cba-4d0f-80a7-c1733007194b",
     "showTitle": false,
     "tableResultSettingsMap": {},
     "title": ""
    }
   },
   "outputs": [],
   "source": [
    "# -------------------- Configuration --------------------\n",
    "\n",
    "import requests\n",
    "import json\n",
    "from datetime import date, timedelta\n",
    "\n",
    "ACCOUNT_NAME = 'datapr0ject'\n",
    "TIERS = ['bronze', 'silver', 'gold']\n",
    "\n",
    "API_KEY = dbutils.secrets.get(scope=\"sports-api-secrets\", key=\"thesportsdb_key\")\n",
    "if not API_KEY:\n",
    "    raise ValueError(\"API Key not found. Please check secret scope setup.\")\n",
    "\n",
    "season_year = 2025\n",
    "sport_name = \"Fighting\"\n",
    "\n",
    "start_date = date.today() - timedelta(days=1)"
   ]
  },
  {
   "cell_type": "code",
   "execution_count": 0,
   "metadata": {
    "application/vnd.databricks.v1+cell": {
     "cellMetadata": {
      "byteLimit": 2048000,
      "rowLimit": 10000
     },
     "inputWidgets": {},
     "nuid": "f74aec69-34d9-4fb3-9753-ece7527c2b92",
     "showTitle": false,
     "tableResultSettingsMap": {},
     "title": ""
    }
   },
   "outputs": [],
   "source": [
    "# -------------------- ADLS Paths Setup --------------------\n",
    "\n",
    "def get_adls_paths(account_name, tiers):\n",
    "    return {tier: f'abfss://{tier}@{account_name}.dfs.core.windows.net/' for tier in tiers}\n",
    "\n",
    "adls_paths = get_adls_paths(ACCOUNT_NAME, TIERS)\n",
    "\n",
    "bronze_adls = adls_paths['bronze']\n",
    "silver_adls = adls_paths['silver']\n",
    "gold_adls = adls_paths['gold']\n",
    "\n",
    "dbutils.fs.ls(bronze_adls)\n",
    "dbutils.fs.ls(silver_adls)\n",
    "dbutils.fs.ls(gold_adls)"
   ]
  },
  {
   "cell_type": "code",
   "execution_count": 0,
   "metadata": {
    "application/vnd.databricks.v1+cell": {
     "cellMetadata": {
      "byteLimit": 2048000,
      "rowLimit": 10000
     },
     "inputWidgets": {},
     "nuid": "6482f667-3399-4818-a47e-6fa1d0ccd8e8",
     "showTitle": false,
     "tableResultSettingsMap": {},
     "title": ""
    }
   },
   "outputs": [],
   "source": [
    "# -------------------- Known API Sport IDs --------------------\n",
    "sports_ids = {\n",
    "    \"fighting\": \"4443\",  # UFC\n",
    "    \"soccer\": \"4328\",\n",
    "    \"basketball\": \"4387\",\n",
    "    \"baseball\": \"4424\",\n",
    "    \"american_football\": \"4391\",\n",
    "    \"rugby\": \"4464\",\n",
    "    \"motorsport\": \"4370\",\n",
    "    \"cycling\": \"4406\",\n",
    "    \"darts\": \"4415\"\n",
    "}"
   ]
  },
  {
   "cell_type": "code",
   "execution_count": 0,
   "metadata": {
    "application/vnd.databricks.v1+cell": {
     "cellMetadata": {
      "byteLimit": 2048000,
      "rowLimit": 10000
     },
     "inputWidgets": {},
     "nuid": "75fa35de-5774-4d40-a053-05c9a6a5eb92",
     "showTitle": false,
     "tableResultSettingsMap": {},
     "title": ""
    }
   },
   "outputs": [],
   "source": [
    "# -------------------- League ID Resolver --------------------\n",
    "\n",
    "def get_league_id(sport_name, default_id=None):\n",
    "    try:\n",
    "        return sports_ids[sport_name.lower()]\n",
    "    except KeyError:\n",
    "        print(f\"[ERROR] Sport '{sport_name}' not found in local mapping.\")\n",
    "        print(\"Please refer to https://www.thesportsdb.com/documentation for valid sport names.\")\n",
    "        return default_id"
   ]
  },
  {
   "cell_type": "code",
   "execution_count": 0,
   "metadata": {
    "application/vnd.databricks.v1+cell": {
     "cellMetadata": {
      "byteLimit": 2048000,
      "rowLimit": 10000
     },
     "inputWidgets": {},
     "nuid": "beb1dc98-a2a4-4fa5-9e93-6d586378332f",
     "showTitle": false,
     "tableResultSettingsMap": {},
     "title": ""
    }
   },
   "outputs": [],
   "source": [
    "# -------------------- API Call + Save --------------------\n",
    "\n",
    "def fetch_and_save_season_events(sport_id, season_year):\n",
    "    url = f\"https://www.thesportsdb.com/api/v1/json/{API_KEY}/eventsseason.php?id={sport_id}&s={season_year}\"\n",
    "\n",
    "    try:\n",
    "        response = requests.get(url)\n",
    "        response.raise_for_status()\n",
    "        data = response.json().get(\"events\", [])\n",
    "        if not data:\n",
    "            print(\"No data returned for the specified year or sport.\")\n",
    "            return\n",
    "\n",
    "        file_path = f\"{bronze_adls}/{start_date}_{sport_id}_season_data.json\"\n",
    "        json_data = json.dumps(data, indent=4)\n",
    "        dbutils.fs.put(file_path, json_data, overwrite=True)\n",
    "        print(f\"Data successfully saved to {file_path}\")\n",
    "    except requests.exceptions.RequestException as e:\n",
    "        print(f\"Error fetching data from API: {e}\")"
   ]
  },
  {
   "cell_type": "code",
   "execution_count": 0,
   "metadata": {
    "application/vnd.databricks.v1+cell": {
     "cellMetadata": {
      "byteLimit": 2048000,
      "rowLimit": 10000
     },
     "inputWidgets": {},
     "nuid": "cdf5b7c6-92da-47aa-9de5-f265b0c78796",
     "showTitle": false,
     "tableResultSettingsMap": {},
     "title": ""
    }
   },
   "outputs": [],
   "source": [
    "# -------------------- Execute ETL --------------------\n",
    "\n",
    "sport_id = get_league_id(sport_name)\n",
    "fetch_and_save_season_events(sport_id, season_year)"
   ]
  }
 ],
 "metadata": {
  "application/vnd.databricks.v1+notebook": {
   "computePreferences": null,
   "dashboards": [],
   "environmentMetadata": {
    "base_environment": "",
    "environment_version": "2"
   },
   "inputWidgetPreferences": null,
   "language": "python",
   "notebookMetadata": {
    "pythonIndentUnit": 4
   },
   "notebookName": "Bronze Notebook",
   "widgets": {}
  },
  "language_info": {
   "name": "python"
  }
 },
 "nbformat": 4,
 "nbformat_minor": 0
}
