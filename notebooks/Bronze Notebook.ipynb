{
 "cells": [
  {
   "cell_type": "code",
   "execution_count": 0,
   "metadata": {
    "application/vnd.databricks.v1+cell": {
     "cellMetadata": {
      "byteLimit": 2048000,
      "rowLimit": 10000
     },
     "inputWidgets": {},
     "nuid": "aa5cdfbc-6cba-4d0f-80a7-c1733007194b",
     "showTitle": false,
     "tableResultSettingsMap": {},
     "title": ""
    }
   },
   "outputs": [],
   "source": [
    "%run ./00_config"
   ]
  },
  {
   "cell_type": "code",
   "execution_count": 0,
   "metadata": {
    "application/vnd.databricks.v1+cell": {
     "cellMetadata": {},
     "inputWidgets": {},
     "nuid": "1c732363-be29-470e-a7ba-16f6c25513f9",
     "showTitle": false,
     "tableResultSettingsMap": {},
     "title": ""
    }
   },
   "outputs": [],
   "source": [
    "# Using %run above to load shared configuration variables (account name, API key and etc)"
   ]
  },
  {
   "cell_type": "code",
   "execution_count": 0,
   "metadata": {
    "application/vnd.databricks.v1+cell": {
     "cellMetadata": {
      "byteLimit": 2048000,
      "rowLimit": 10000
     },
     "inputWidgets": {},
     "nuid": "75fa35de-5774-4d40-a053-05c9a6a5eb92",
     "showTitle": false,
     "tableResultSettingsMap": {},
     "title": ""
    }
   },
   "outputs": [],
   "source": [
    "# -------------------- League ID Resolver --------------------\n",
    "\n",
    "def get_league_id(sport_name, default_id=None):\n",
    "    try:\n",
    "        return sports_ids[sport_name.lower()]\n",
    "    except KeyError:\n",
    "        print(f\"[ERROR] Sport '{sport_name}' not found in local mapping.\")\n",
    "        print(\"Please refer to https://www.thesportsdb.com/documentation for valid sport names.\")\n",
    "        return default_id"
   ]
  },
  {
   "cell_type": "code",
   "execution_count": 0,
   "metadata": {
    "application/vnd.databricks.v1+cell": {
     "cellMetadata": {
      "byteLimit": 2048000,
      "rowLimit": 10000
     },
     "inputWidgets": {},
     "nuid": "beb1dc98-a2a4-4fa5-9e93-6d586378332f",
     "showTitle": false,
     "tableResultSettingsMap": {},
     "title": ""
    }
   },
   "outputs": [],
   "source": [
    "# -------------------- API Call + Save --------------------\n",
    "\n",
    "def fetch_and_save_season_events(sport_id, season_year):\n",
    "    url = f\"https://www.thesportsdb.com/api/v1/json/{API_KEY}/eventsseason.php?id={sport_id}&s={season_year}\"\n",
    "\n",
    "    try:\n",
    "        response = requests.get(url)\n",
    "        response.raise_for_status()\n",
    "        data = response.json().get(\"events\", [])\n",
    "        if not data:\n",
    "            print(\"No data returned for the specified year or sport.\")\n",
    "            return\n",
    "\n",
    "        file_path = f\"{bronze_adls}/{INGESTION_DATE}_{sport_id}_season_data.json\"\n",
    "        json_data = json.dumps(data, indent=4)\n",
    "        dbutils.fs.put(file_path, json_data, overwrite=True)\n",
    "        print(f\"Data successfully saved to {file_path}\")\n",
    "    except requests.exceptions.RequestException as e:\n",
    "        print(f\"Error fetching data from API: {e}\")"
   ]
  },
  {
   "cell_type": "code",
   "execution_count": 0,
   "metadata": {
    "application/vnd.databricks.v1+cell": {
     "cellMetadata": {
      "byteLimit": 2048000,
      "rowLimit": 10000
     },
     "inputWidgets": {},
     "nuid": "cdf5b7c6-92da-47aa-9de5-f265b0c78796",
     "showTitle": false,
     "tableResultSettingsMap": {},
     "title": ""
    }
   },
   "outputs": [],
   "source": [
    "# -------------------- Execute ETL --------------------\n",
    "\n",
    "sport_id = get_league_id(sport_name)\n",
    "fetch_and_save_season_events(sport_id, season_year)"
   ]
  }
 ],
 "metadata": {
  "application/vnd.databricks.v1+notebook": {
   "computePreferences": null,
   "dashboards": [],
   "environmentMetadata": {
    "base_environment": "",
    "environment_version": "2"
   },
   "inputWidgetPreferences": null,
   "language": "python",
   "notebookMetadata": {
    "pythonIndentUnit": 4
   },
   "notebookName": "Bronze Notebook",
   "widgets": {}
  },
  "language_info": {
   "name": "python"
  }
 },
 "nbformat": 4,
 "nbformat_minor": 0
}
