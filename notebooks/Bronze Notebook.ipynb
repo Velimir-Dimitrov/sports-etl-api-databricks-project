{
 "cells": [
  {
   "cell_type": "code",
   "execution_count": 0,
   "metadata": {
    "application/vnd.databricks.v1+cell": {
     "cellMetadata": {
      "byteLimit": 2048000,
      "rowLimit": 10000
     },
     "inputWidgets": {},
     "nuid": "f74aec69-34d9-4fb3-9753-ece7527c2b92",
     "showTitle": false,
     "tableResultSettingsMap": {},
     "title": ""
    }
   },
   "outputs": [],
   "source": [
    "tiers = ['bronze', 'silver', 'gold']\n",
    "adls_paths = {tier: f'abfss://{tier}@datapr0ject.dfs.core.windows.net/' for tier in tiers}\n",
    "\n",
    "bronze_adls = adls_paths['bronze']\n",
    "silver_adls = adls_paths['silver']\n",
    "gold_adls = adls_paths['gold']\n",
    "\n",
    "dbutils.fs.ls(bronze_adls)\n",
    "dbutils.fs.ls(silver_adls)\n",
    "dbutils.fs.ls(gold_adls)"
   ]
  },
  {
   "cell_type": "code",
   "execution_count": 0,
   "metadata": {
    "application/vnd.databricks.v1+cell": {
     "cellMetadata": {
      "byteLimit": 2048000,
      "rowLimit": 10000
     },
     "inputWidgets": {},
     "nuid": "aa5cdfbc-6cba-4d0f-80a7-c1733007194b",
     "showTitle": false,
     "tableResultSettingsMap": {},
     "title": ""
    }
   },
   "outputs": [],
   "source": [
    "import requests\n",
    "import json\n",
    "from datetime import date, timedelta"
   ]
  },
  {
   "cell_type": "code",
   "execution_count": 0,
   "metadata": {
    "application/vnd.databricks.v1+cell": {
     "cellMetadata": {
      "byteLimit": 2048000,
      "rowLimit": 10000
     },
     "inputWidgets": {},
     "nuid": "2f2a9459-9539-402b-8e95-e19b55351b4c",
     "showTitle": false,
     "tableResultSettingsMap": {},
     "title": ""
    }
   },
   "outputs": [],
   "source": [
    "start_date = date.today() - timedelta(days=1)\n",
    "end_date = date.today()"
   ]
  },
  {
   "cell_type": "code",
   "execution_count": 0,
   "metadata": {
    "application/vnd.databricks.v1+cell": {
     "cellMetadata": {
      "byteLimit": 2048000,
      "rowLimit": 10000
     },
     "inputWidgets": {},
     "nuid": "75fa35de-5774-4d40-a053-05c9a6a5eb92",
     "showTitle": false,
     "tableResultSettingsMap": {},
     "title": ""
    }
   },
   "outputs": [],
   "source": [
    "season_year = 2025\n",
    "API_KEY = 123 #hard coded API key for non-premium user\n",
    "\n",
    "# Dictionary of common sports with their TheSportsDB API league IDs\n",
    "sports_ids = {\n",
    "    \"fighting\": \"4443\",  # UFC (Ultimate Fighting Championship)\n",
    "    \"soccer\": \"4328\",    # English Premier League (most prominent soccer league)\n",
    "    \"basketball\": \"4387\", # NBA (National Basketball Association)\n",
    "    \"baseball\": \"4424\",   # MLB (Major League Baseball)\n",
    "    \"american_football\": \"4391\", # NFL (National Football League)\n",
    "    \"rugby\": \"4464\",     # Rugby Super League\n",
    "    \"motorsport\": \"4370\", # Formula 1\n",
    "    \"cycling\": \"4406\",    # Tour de France\n",
    "    \"darts\": \"4415\"       # PDC Darts\n",
    "}\n",
    "\n",
    "# Function to safely retrieve league ID with fallback\n",
    "def get_league_id(sport, default_id=None):\n",
    "    \"\"\"\n",
    "    Retrieves league ID from sports_ids dictionary or falls back to API query if not found.\n",
    "    \n",
    "    Args:\n",
    "        sport (str): Sport name (e.g., 'fighting')\n",
    "        api_key (str): TheSportsDB API key\n",
    "        default_id (str, optional): Default ID to return if lookup fails\n",
    "    \n",
    "    Returns:\n",
    "        str: League ID or default_id if not found\n",
    "    \"\"\"\n",
    "    try:\n",
    "        return sports_ids[sport.lower()]\n",
    "    except KeyError:\n",
    "        print(f\"League ID for {sport} not found in dictionary. Querying API...\")\n",
    "        url = f\"https://www.thesportsdb.com/api/v1/json/{API_KEY}/all_leagues.php\"\n",
    "        response = requests.get(url)\n",
    "        if response.status_code == 200:\n",
    "            leagues = response.json().get(\"leagues\", [])\n",
    "            for league in leagues:\n",
    "                if league[\"strSport\"].lower() == sport.lower():\n",
    "                    print(f\"Found {sport} league: {league['strLeague']} (ID: {league['idLeague']})\")\n",
    "                    return league[\"idLeague\"]\n",
    "        print(f\"No league found for {sport}. Returning default ID.\")\n",
    "        return default_id"
   ]
  },
  {
   "cell_type": "code",
   "execution_count": 0,
   "metadata": {
    "application/vnd.databricks.v1+cell": {
     "cellMetadata": {
      "byteLimit": 2048000,
      "rowLimit": 10000
     },
     "inputWidgets": {},
     "nuid": "62512821-c736-4188-85ad-28be2137fd64",
     "showTitle": false,
     "tableResultSettingsMap": {},
     "title": ""
    }
   },
   "outputs": [],
   "source": [
    "sport_id = get_league_id('Fighting')"
   ]
  },
  {
   "cell_type": "code",
   "execution_count": 0,
   "metadata": {
    "application/vnd.databricks.v1+cell": {
     "cellMetadata": {
      "byteLimit": 2048000,
      "rowLimit": 10000
     },
     "inputWidgets": {},
     "nuid": "beb1dc98-a2a4-4fa5-9e93-6d586378332f",
     "showTitle": false,
     "tableResultSettingsMap": {},
     "title": ""
    }
   },
   "outputs": [],
   "source": [
    "url = f\"https://www.thesportsdb.com/api/v1/json/123/eventsseason.php?id={sport_id}&s={season_year}\"\n",
    "\n",
    "try:\n",
    "    response = requests.get(url)\n",
    "    response.raise_for_status()\n",
    "    data = response.json().get('events', [])\n",
    "    if not data:\n",
    "        print(\"No data returned for the specified year or sport.\")\n",
    "    else:\n",
    "        file_path = f\"{bronze_adls}/{start_date}_{sport_id}_data.json\"\n",
    "        \n",
    "        json_data = json.dumps(data, indent=4)\n",
    "        dbutils.fs.put(file_path, json_data, overwrite=True)\n",
    "        print(f\"Data successfully saved to {file_path}\")\n",
    "except requests.exceptions.RequestException as e:\n",
    "    print(f\"Error fetching data from API: {e}\")"
   ]
  }
 ],
 "metadata": {
  "application/vnd.databricks.v1+notebook": {
   "computePreferences": null,
   "dashboards": [],
   "environmentMetadata": {
    "base_environment": "",
    "environment_version": "2"
   },
   "inputWidgetPreferences": null,
   "language": "python",
   "notebookMetadata": {
    "pythonIndentUnit": 4
   },
   "notebookName": "Bronze Notebook",
   "widgets": {}
  },
  "language_info": {
   "name": "python"
  }
 },
 "nbformat": 4,
 "nbformat_minor": 0
}
