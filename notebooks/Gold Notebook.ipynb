{
 "cells": [
  {
   "cell_type": "code",
   "execution_count": 0,
   "metadata": {
    "application/vnd.databricks.v1+cell": {
     "cellMetadata": {
      "byteLimit": 2048000,
      "rowLimit": 10000
     },
     "inputWidgets": {},
     "nuid": "a5c16f36-c721-4f00-a0a7-f667d9432965",
     "showTitle": false,
     "tableResultSettingsMap": {},
     "title": ""
    }
   },
   "outputs": [],
   "source": [
    "# ---------- Imports ----------\n",
    "\n",
    "from pyspark.sql.functions import col, count, year"
   ]
  },
  {
   "cell_type": "code",
   "execution_count": 0,
   "metadata": {
    "application/vnd.databricks.v1+cell": {
     "cellMetadata": {
      "byteLimit": 2048000,
      "rowLimit": 10000
     },
     "inputWidgets": {},
     "nuid": "2a9c09e0-b27c-4092-9444-fa43f6f3d0e3",
     "showTitle": false,
     "tableResultSettingsMap": {},
     "title": ""
    }
   },
   "outputs": [],
   "source": [
    "# ---------- Read clean data from Silver Notebook ----------\n",
    "\n",
    "silver_adls = \"abfss://silver@datapr0ject.dfs.core.windows.net\"\n",
    "gold_adls = \"abfss://gold@datapr0ject.dfs.core.windows.net\"\n",
    "\n",
    "df = spark.read.parquet(silver_adls)\n",
    "df.createOrReplaceTempView(\"fighting_events\")"
   ]
  },
  {
   "cell_type": "markdown",
   "metadata": {
    "application/vnd.databricks.v1+cell": {
     "cellMetadata": {},
     "inputWidgets": {},
     "nuid": "55d51362-e1a6-4b21-87cf-7144dde98165",
     "showTitle": false,
     "tableResultSettingsMap": {},
     "title": ""
    }
   },
   "source": []
  },
  {
   "cell_type": "code",
   "execution_count": 0,
   "metadata": {
    "application/vnd.databricks.v1+cell": {
     "cellMetadata": {
      "byteLimit": 2048000,
      "rowLimit": 10000
     },
     "inputWidgets": {},
     "nuid": "96e001ca-2e0c-4908-a283-2f61befcdf47",
     "showTitle": false,
     "tableResultSettingsMap": {},
     "title": ""
    }
   },
   "outputs": [],
   "source": [
    "# ---------- Business Aggregations  ----------\n",
    "\n",
    "events_by_country = (\n",
    "    df.groupBy(\"strCountry\")\n",
    "      .agg(count(\"*\").alias(\"event_count\"))\n",
    "      .orderBy(col(\"event_count\").desc())\n",
    ")\n",
    "\n",
    "top_venues = (\n",
    "    df.groupBy(\"strVenue\")\n",
    "      .agg(count(\"*\").alias(\"event_count\"))\n",
    "      .orderBy(col(\"event_count\").desc())\n",
    ")"
   ]
  },
  {
   "cell_type": "code",
   "execution_count": 0,
   "metadata": {
    "application/vnd.databricks.v1+cell": {
     "cellMetadata": {
      "byteLimit": 2048000,
      "rowLimit": 10000
     },
     "inputWidgets": {},
     "nuid": "90d090e8-ed58-4bc1-8881-5be927175df9",
     "showTitle": false,
     "tableResultSettingsMap": {},
     "title": ""
    }
   },
   "outputs": [],
   "source": [
    "# ---------- Save bussiness data  ----------\n",
    "\n",
    "events_by_country.write.mode('overwrite').parquet(f\"{gold_adls}/events_by_country\")\n",
    "top_venues.write.mode(\"overwrite\").parquet(f\"{gold_adls}/top_venues\")"
   ]
  }
 ],
 "metadata": {
  "application/vnd.databricks.v1+notebook": {
   "computePreferences": null,
   "dashboards": [],
   "environmentMetadata": {
    "base_environment": "",
    "environment_version": "2"
   },
   "inputWidgetPreferences": null,
   "language": "python",
   "notebookMetadata": {
    "pythonIndentUnit": 4
   },
   "notebookName": "Gold Notebook",
   "widgets": {}
  },
  "language_info": {
   "name": "python"
  }
 },
 "nbformat": 4,
 "nbformat_minor": 0
}
